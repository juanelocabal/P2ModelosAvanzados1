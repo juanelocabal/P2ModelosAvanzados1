{
 "cells": [
  {
   "cell_type": "markdown",
   "metadata": {},
   "source": [
    "# Project 2\n",
    "\n",
    "# Used Vehicle Price Prediction"
   ]
  },
  {
   "cell_type": "markdown",
   "metadata": {},
   "source": [
    "#### Angie Paola Chacon Pinzon: 201012536\n",
    "#### Jahir Stevens Rodriguez Riveros: 201819361\n",
    "#### Juan Andres Cabal Jaramillo: 200620778\n",
    "#### David Tavera Sánchez: 201016123"
   ]
  },
  {
   "cell_type": "code",
   "execution_count": 8,
   "metadata": {},
   "outputs": [],
   "source": [
    "# Manipulación de los datos\n",
    "import pandas as pd; pd.set_option('display.max_columns', None)\n",
    "import numpy as np\n",
    "\n",
    "# Estadísticas\n",
    "from scipy import stats\n",
    "import statistics\n",
    "\n",
    "# Modelaje\n",
    "from sklearn.preprocessing import scale \n",
    "from sklearn.decomposition import PCA\n",
    "from sklearn.linear_model import LinearRegression\n",
    "from sklearn.tree import DecisionTreeRegressor\n",
    "from sklearn.model_selection import train_test_split\n",
    "from sklearn.linear_model import LinearRegression\n",
    "from sklearn.tree import DecisionTreeRegressor\n",
    "from sklearn.naive_bayes import GaussianNB\n",
    "from sklearn.neighbors import KNeighborsRegressor\n",
    "from sklearn.metrics import mean_squared_error\n",
    "from sklearn.ensemble import RandomForestRegressor\n",
    "from sklearn.model_selection import cross_val_score\n",
    "from sklearn.ensemble import GradientBoostingRegressor\n",
    "from xgboost import XGBRegressor\n",
    "from datetime import datetime\n",
    "from sklearn import metrics\n",
    "\n",
    "# Visualización\n",
    "%matplotlib inline\n",
    "import matplotlib.pyplot as plt\n",
    "import seaborn as sns\n",
    "\n",
    "# Progreso\n",
    "from tqdm.notebook import trange, tqdm_notebook"
   ]
  },
  {
   "cell_type": "markdown",
   "metadata": {},
   "source": [
    "## Introduction\n",
    "\n",
    "- 1.2 Million listings scraped from TrueCar.com - Price, Mileage, Make, Model dataset from Kaggle: [data](https://www.kaggle.com/jpayne/852k-used-car-listings)\n",
    "- Each observation represents the price of an used car"
   ]
  },
  {
   "cell_type": "code",
   "execution_count": 2,
   "metadata": {},
   "outputs": [],
   "source": [
    "data = pd.read_csv('../P2ModelosAvanzados1/datasets/dataTrain_carListings.zip')"
   ]
  },
  {
   "cell_type": "code",
   "execution_count": 3,
   "metadata": {
    "scrolled": true
   },
   "outputs": [
    {
     "data": {
      "text/html": [
       "<div>\n",
       "<style scoped>\n",
       "    .dataframe tbody tr th:only-of-type {\n",
       "        vertical-align: middle;\n",
       "    }\n",
       "\n",
       "    .dataframe tbody tr th {\n",
       "        vertical-align: top;\n",
       "    }\n",
       "\n",
       "    .dataframe thead th {\n",
       "        text-align: right;\n",
       "    }\n",
       "</style>\n",
       "<table border=\"1\" class=\"dataframe\">\n",
       "  <thead>\n",
       "    <tr style=\"text-align: right;\">\n",
       "      <th></th>\n",
       "      <th>Price</th>\n",
       "      <th>Year</th>\n",
       "      <th>Mileage</th>\n",
       "      <th>State</th>\n",
       "      <th>Make</th>\n",
       "      <th>Model</th>\n",
       "    </tr>\n",
       "  </thead>\n",
       "  <tbody>\n",
       "    <tr>\n",
       "      <th>0</th>\n",
       "      <td>21490</td>\n",
       "      <td>2014</td>\n",
       "      <td>31909</td>\n",
       "      <td>MD</td>\n",
       "      <td>Nissan</td>\n",
       "      <td>MuranoAWD</td>\n",
       "    </tr>\n",
       "    <tr>\n",
       "      <th>1</th>\n",
       "      <td>21250</td>\n",
       "      <td>2016</td>\n",
       "      <td>25741</td>\n",
       "      <td>KY</td>\n",
       "      <td>Chevrolet</td>\n",
       "      <td>CamaroCoupe</td>\n",
       "    </tr>\n",
       "    <tr>\n",
       "      <th>2</th>\n",
       "      <td>20925</td>\n",
       "      <td>2016</td>\n",
       "      <td>24633</td>\n",
       "      <td>SC</td>\n",
       "      <td>Hyundai</td>\n",
       "      <td>Santa</td>\n",
       "    </tr>\n",
       "    <tr>\n",
       "      <th>3</th>\n",
       "      <td>14500</td>\n",
       "      <td>2012</td>\n",
       "      <td>84026</td>\n",
       "      <td>OK</td>\n",
       "      <td>Jeep</td>\n",
       "      <td>Grand</td>\n",
       "    </tr>\n",
       "    <tr>\n",
       "      <th>4</th>\n",
       "      <td>32488</td>\n",
       "      <td>2013</td>\n",
       "      <td>22816</td>\n",
       "      <td>TN</td>\n",
       "      <td>Jeep</td>\n",
       "      <td>Wrangler</td>\n",
       "    </tr>\n",
       "  </tbody>\n",
       "</table>\n",
       "</div>"
      ],
      "text/plain": [
       "   Price  Year  Mileage State       Make        Model\n",
       "0  21490  2014    31909    MD     Nissan    MuranoAWD\n",
       "1  21250  2016    25741    KY  Chevrolet  CamaroCoupe\n",
       "2  20925  2016    24633    SC    Hyundai        Santa\n",
       "3  14500  2012    84026    OK       Jeep        Grand\n",
       "4  32488  2013    22816    TN       Jeep     Wrangler"
      ]
     },
     "execution_count": 3,
     "metadata": {},
     "output_type": "execute_result"
    }
   ],
   "source": [
    "data.head()"
   ]
  },
  {
   "cell_type": "code",
   "execution_count": 4,
   "metadata": {},
   "outputs": [
    {
     "data": {
      "text/plain": [
       "count    500000.000000\n",
       "mean      21144.186304\n",
       "std       10753.259704\n",
       "min        5001.000000\n",
       "25%       13499.000000\n",
       "50%       18450.000000\n",
       "75%       26998.000000\n",
       "max       79999.000000\n",
       "Name: Price, dtype: float64"
      ]
     },
     "execution_count": 4,
     "metadata": {},
     "output_type": "execute_result"
    }
   ],
   "source": [
    "data.Price.describe()"
   ]
  },
  {
   "cell_type": "code",
   "execution_count": 5,
   "metadata": {},
   "outputs": [
    {
     "data": {
      "text/plain": [
       "<matplotlib.axes._subplots.AxesSubplot at 0x1ac2dcb7e08>"
      ]
     },
     "execution_count": 5,
     "metadata": {},
     "output_type": "execute_result"
    },
    {
     "data": {
      "image/png": "[encoded data removed]",
      "text/plain": [
       "<Figure size 432x288 with 1 Axes>"
      ]
     },
     "metadata": {
      "needs_background": "light"
     },
     "output_type": "display_data"
    }
   ],
   "source": [
    "data.plot(kind='scatter', y='Price', x='Year')"
   ]
  },
  {
   "cell_type": "code",
   "execution_count": 6,
   "metadata": {},
   "outputs": [
    {
     "data": {
      "text/plain": [
       "<matplotlib.axes._subplots.AxesSubplot at 0x1ac2e40b348>"
      ]
     },
     "execution_count": 6,
     "metadata": {},
     "output_type": "execute_result"
    },
    {
     "data": {
      "image/png": "[encoded data removed]",
      "text/plain": [
       "<Figure size 432x288 with 1 Axes>"
      ]
     },
     "metadata": {
      "needs_background": "light"
     },
     "output_type": "display_data"
    }
   ],
   "source": [
    "data.plot(kind='scatter', y='Price', x='Mileage')"
   ]
  },
  {
   "cell_type": "code",
   "execution_count": 7,
   "metadata": {},
   "outputs": [
    {
     "data": {
      "text/plain": [
       "Index(['Price', 'Year', 'Mileage', 'State', 'Make', 'Model'], dtype='object')"
      ]
     },
     "execution_count": 7,
     "metadata": {},
     "output_type": "execute_result"
    }
   ],
   "source": [
    "data.columns"
   ]
  },
  {
   "cell_type": "code",
   "execution_count": 8,
   "metadata": {},
   "outputs": [
    {
     "name": "stdout",
     "output_type": "stream",
     "text": [
      "<class 'pandas.core.frame.DataFrame'>\n",
      "RangeIndex: 500000 entries, 0 to 499999\n",
      "Data columns (total 6 columns):\n",
      " #   Column   Non-Null Count   Dtype \n",
      "---  ------   --------------   ----- \n",
      " 0   Price    500000 non-null  int64 \n",
      " 1   Year     500000 non-null  int64 \n",
      " 2   Mileage  500000 non-null  int64 \n",
      " 3   State    500000 non-null  object\n",
      " 4   Make     500000 non-null  object\n",
      " 5   Model    500000 non-null  object\n",
      "dtypes: int64(3), object(3)\n",
      "memory usage: 22.9+ MB\n"
     ]
    }
   ],
   "source": [
    "data.info()"
   ]
  },
  {
   "cell_type": "code",
   "execution_count": 60,
   "metadata": {},
   "outputs": [
    {
     "name": "stdout",
     "output_type": "stream",
     "text": [
      "Dimensión de los predictores: (500000, 613)\n",
      "Dimensión objetivo: (500000, 1)\n"
     ]
    }
   ],
   "source": [
    "# Construimos las base de datos con las variables predictoras y la variable de respuesta.\n",
    "\n",
    "# Conjunto de predictores\n",
    "X_cat = data[['State', 'Make', 'Model']]\n",
    "X_num = data[['Year', 'Mileage']]\n",
    "\n",
    "X = pd.get_dummies(X_cat, drop_first = True)\n",
    "X = pd.concat([X_num, X], axis=1, sort = False)\n",
    "\n",
    "# Variable a predecir\n",
    "y = data[['Price']]\n",
    "\n",
    "print(\"Dimensión de los predictores:\", X.shape)\n",
    "print(\"Dimensión objetivo:\", y.shape)"
   ]
  },
  {
   "cell_type": "markdown",
   "metadata": {},
   "source": [
    "# Exercise P2.1 (50%)\n",
    "\n",
    "Develop a machine learning model that predicts the price of the of car using as an input ['Year', 'Mileage', 'State', 'Make', 'Model']\n",
    "\n",
    "#### Evaluation:\n",
    "- 25% - Performance of the models using a manually implemented K-Fold (K=10) cross-validation\n",
    "- 25% - Notebook explaining the process for selecting the best model. You must specify how the calibration of each of the parameters is done and how these change the performance of the model. It is expected that a clear comparison will be made of all implemented models.. Present the most relevant conslusions about the whole process. \n"
   ]
  },
  {
   "cell_type": "markdown",
   "metadata": {},
   "source": [
    "### Bagging"
   ]
  },
  {
   "cell_type": "markdown",
   "metadata": {},
   "source": [
    "#### Decision Tree Regressor"
   ]
  },
  {
   "cell_type": "code",
   "execution_count": 70,
   "metadata": {},
   "outputs": [
    {
     "data": {
      "text/plain": [
       "(500000, 617)"
      ]
     },
     "execution_count": 70,
     "metadata": {},
     "output_type": "execute_result"
    }
   ],
   "source": [
    "states = pd.get_dummies(data['State'])\n",
    "makes = pd.get_dummies(data['Make'])\n",
    "models = pd.get_dummies(data['Model'])\n",
    "df = pd.concat([data[['Price', 'Year', 'Mileage']], states, makes, models], axis = 1)\n",
    "df.shape"
   ]
  },
  {
   "cell_type": "code",
   "execution_count": 73,
   "metadata": {},
   "outputs": [
    {
     "data": {
      "application/vnd.jupyter.widget-view+json": {
       "model_id": "8028256e14c54e6891636efb9cfb80da",
       "version_major": 2,
       "version_minor": 0
      },
      "text/plain": [
       "HBox(children=(FloatProgress(value=0.0, max=10.0), HTML(value='')))"
      ]
     },
     "metadata": {},
     "output_type": "display_data"
    },
    {
     "name": "stdout",
     "output_type": "stream",
     "text": [
      "RF iteración 0 mse 4801.540622245261\n",
      "RF iteración 1 mse 4712.8234246468255\n",
      "RF iteración 2 mse 4701.985255471404\n",
      "RF iteración 3 mse 4688.74915663998\n",
      "RF iteración 4 mse 4687.069639958375\n",
      "RF iteración 5 mse 4748.64683493769\n",
      "RF iteración 6 mse 4780.043565118961\n",
      "RF iteración 7 mse 4746.493734082468\n",
      "RF iteración 8 mse 4787.364199674261\n",
      "RF iteración 9 mse 4748.01220089719\n",
      "\n"
     ]
    }
   ],
   "source": [
    "K = 10\n",
    "N = data.shape[0]\n",
    "acc = []\n",
    "\n",
    "y = 'Price'\n",
    "\n",
    "for i in tqdm_notebook(range(0,K)):\n",
    "    X_test = df.loc[i*(N/K):(i+1)*(N/K)-1,]\n",
    "    y_test = X_test[y]\n",
    "    X_train = df.loc[set(data.index) - set(X_test.index),]\n",
    "    y_train = X_train[y]\n",
    "    X_test = X_test.drop(columns = y)\n",
    "    X_train = X_train.drop(columns = y)\n",
    "    clf = DecisionTreeRegressor(max_depth = None, random_state = 42)\n",
    "    clf.fit(X_train, y_train)\n",
    "    y_hat = clf.predict(X_test)\n",
    "    acc.append(['RF',i, mean_squared_error(y_hat,y_test)])\n",
    "    print ('RF iteración {} mse {}'.format(i, np.sqrt(mean_squared_error(y_hat,y_test))))"
   ]
  },
  {
   "cell_type": "code",
   "execution_count": 61,
   "metadata": {
    "scrolled": false
   },
   "outputs": [
    {
     "name": "stdout",
     "output_type": "stream",
     "text": [
      "Dimensión Train: (350000, 613)\n",
      "Dimensión Test: (150000, 1)\n"
     ]
    }
   ],
   "source": [
    "X_train, X_test, y_train, y_test = train_test_split(X, y, test_size=0.3, random_state=42)\n",
    "\n",
    "print(\"Dimensión Train:\", X_train.shape)\n",
    "print(\"Dimensión Test:\", y_test.shape)\n",
    "\n",
    "# set a seed for reproducibility\n",
    "np.random.seed(42)\n",
    "\n",
    "n_samples = X_train.shape[0]\n",
    "n_B = 10\n",
    "\n",
    "# create ten bootstrap samples (will be used to select rows from the DataFrame)\n",
    "samples = [np.random.choice(a = n_samples, size = n_samples, replace = True) for _ in range(1, n_B + 1)]"
   ]
  },
  {
   "cell_type": "code",
   "execution_count": 54,
   "metadata": {},
   "outputs": [
    {
     "data": {
      "application/vnd.jupyter.widget-view+json": {
       "model_id": "c6fcbfacbb5b4ba2b7a8cad7a5eecc14",
       "version_major": 2,
       "version_minor": 0
      },
      "text/plain": [
       "HBox(children=(FloatProgress(value=0.0, max=10.0), HTML(value='')))"
      ]
     },
     "metadata": {},
     "output_type": "display_data"
    },
    {
     "name": "stdout",
     "output_type": "stream",
     "text": [
      "\n"
     ]
    }
   ],
   "source": [
    "RMSE = []\n",
    "for t in tqdm_notebook(range(25, 35)):\n",
    "    # grow each tree deep\n",
    "    treereg = DecisionTreeRegressor(max_depth = t, random_state = 42)\n",
    "\n",
    "    # DataFrame for storing predicted price from each tree\n",
    "    y_pred = pd.DataFrame(index=y_test.index, columns=[list(range(n_B))])\n",
    "\n",
    "    # grow one tree for each bootstrap sample and make predictions on testing data\n",
    "    for i, sample in enumerate(samples):\n",
    "        X = X_train.iloc[sample, 0:]\n",
    "        y = y_train.iloc[sample]\n",
    "        treereg.fit(X, y)\n",
    "        y_pred[[i]] = treereg.predict(X_test)\n",
    "        \n",
    "    y_pred.mean(axis=1)\n",
    "    RMSE.append(np.sqrt(mean_squared_error(y_test, y_pred.mean(axis=1))))"
   ]
  },
  {
   "cell_type": "code",
   "execution_count": 55,
   "metadata": {},
   "outputs": [
    {
     "data": {
      "text/plain": [
       "Text(0, 0.5, 'RMSE (lower is better)')"
      ]
     },
     "execution_count": 55,
     "metadata": {},
     "output_type": "execute_result"
    },
    {
     "data": {
      "image/png": "[encoded data removed]",
      "text/plain": [
       "<Figure size 432x288 with 1 Axes>"
      ]
     },
     "metadata": {
      "needs_background": "light"
     },
     "output_type": "display_data"
    }
   ],
   "source": [
    "# Gráfica del RMSE\n",
    "plt.plot(RMSE)\n",
    "plt.xlabel('max_depth')\n",
    "plt.ylabel('RMSE (lower is better)')"
   ]
  },
  {
   "cell_type": "markdown",
   "metadata": {},
   "source": [
    "Como primer modelo de predicción implementamos un  árbol de decisión con 10 Fold Cross Validation. Para calibrar el modelo, escogemos, como primera opción, que la profundidad máxima del árbol sea igual a todos los nodos expandidos, en cuyo caso el RMSE es igual a 4,800. Luego de esto, iteramos para ver si reduciendo la profundidad del árbol el RMSE es menor, lo que permite concluir que utilizando una profundidad entre 25 y 35 el RMSE sigue siendo mayor a cuando la profundidad es máxima."
   ]
  },
  {
   "cell_type": "markdown",
   "metadata": {},
   "source": [
    "#### Rotation Forest"
   ]
  },
  {
   "cell_type": "code",
   "execution_count": 56,
   "metadata": {},
   "outputs": [],
   "source": [
    "x_train, x_test_all, y_train, y_test_all = train_test_split(X, y, test_size = 0.3, random_state = 42)\n",
    "x_dev, x_test, y_dev, y_test = train_test_split(x_test_all, y_test_all, test_size = 0.3, random_state = 9)"
   ]
  },
  {
   "cell_type": "code",
   "execution_count": 57,
   "metadata": {},
   "outputs": [],
   "source": [
    "np.random.seed(42)\n",
    "def get_random_subset(iterable, k):\n",
    "    \n",
    "    subsets = []\n",
    "    iteration = 0\n",
    "    np.random.shuffle(iterable)\n",
    "    subset = 0\n",
    "    limit = len(iterable)/k\n",
    "    \n",
    "    while iteration < limit:\n",
    "        if k <= len(iterable):\n",
    "            subset = k\n",
    "        else:\n",
    "            subset = len(iterable)\n",
    "        subsets.append(iterable[-subset:])\n",
    "        del iterable[-subset:]\n",
    "        iteration+=1\n",
    "        return subsets\n",
    "\n",
    "def build_rotationtree_model(x_train, y_train, d, k):\n",
    "    \n",
    "    models = []\n",
    "    r_matrices = []\n",
    "    feature_subsets = []\n",
    "    \n",
    "    for i in tqdm_notebook(range(d)):\n",
    "        x,_,_,_ = train_test_split(x_train, y_train, test_size = 0.3, random_state = 7)\n",
    "        # Features ids\n",
    "        feature_index = list(range(x.shape[1]))\n",
    "        # Get subsets of features\n",
    "        random_k_subset = get_random_subset(feature_index,k)\n",
    "        feature_subsets.append(random_k_subset)\n",
    "        # Rotation matrix\n",
    "        R_matrix = np.zeros((x.shape[1],x.shape[1]),dtype=float)\n",
    "        for each_subset in random_k_subset:\n",
    "            pca = PCA()\n",
    "            x_subset = x.iloc[:,each_subset]\n",
    "            pca.fit(x_subset)\n",
    "            for ii in range(0,len(pca.components_)):\n",
    "                for jj in range(0,len(pca.components_)):\n",
    "                    R_matrix[each_subset[ii],each_subset[jj]] = pca.components_[ii,jj]\n",
    "                \n",
    "        x_transformed = x_train.dot(R_matrix)\n",
    "        \n",
    "        model = DecisionTreeRegressor()\n",
    "        model.fit(x_transformed,y_train)\n",
    "        models.append(model)\n",
    "        r_matrices.append(R_matrix)\n",
    "    return models, r_matrices, feature_subsets\n",
    "    \n",
    "def model_worth(models, r_matrices, x, y):\n",
    "    \n",
    "    predicted_ys = []\n",
    "    mses = []\n",
    "    for i,model in tqdm_notebook(enumerate(models)):\n",
    "        x_mod =  x.dot(r_matrices[i])\n",
    "        predicted_y = model.predict(x_mod)\n",
    "        predicted_ys.append(predicted_y)\n",
    "        \n",
    "        mse = np.sqrt(mean_squared_error(y, predicted_y))\n",
    "        mses.append(mse)\n",
    "        \n",
    "        mse_avg = statistics.mean(mses) \n",
    "    \n",
    "    print(mse_avg)"
   ]
  },
  {
   "cell_type": "code",
   "execution_count": 58,
   "metadata": {
    "scrolled": true
   },
   "outputs": [
    {
     "data": {
      "application/vnd.jupyter.widget-view+json": {
       "model_id": "069e3f3b207747cf88db8d92cebb785f",
       "version_major": 2,
       "version_minor": 0
      },
      "text/plain": [
       "HBox(children=(FloatProgress(value=0.0, max=10.0), HTML(value='')))"
      ]
     },
     "metadata": {},
     "output_type": "display_data"
    },
    {
     "name": "stdout",
     "output_type": "stream",
     "text": [
      "\n"
     ]
    }
   ],
   "source": [
    "models, r_matrices, features = build_rotationtree_model(x_train, y_train, 10, 200)"
   ]
  },
  {
   "cell_type": "markdown",
   "metadata": {},
   "source": [
    "Adicional al modelo de Random Forest, intentamos aplicar un Rotatio Forest en donde se se combina un Random Forest junto con componentes principales. Lo anterior con el fin de ver si al reducir la dimensionalidad de la base la predicción mejora. Sin embargo, al correr el modelo con 10 árboles y utilizando 200 variables el RSME sigue siendo superior al árbol de decisión."
   ]
  },
  {
   "cell_type": "markdown",
   "metadata": {},
   "source": [
    "### Boosting"
   ]
  },
  {
   "cell_type": "markdown",
   "metadata": {},
   "source": [
    "#### Gradient Boosting"
   ]
  },
  {
   "cell_type": "markdown",
   "metadata": {},
   "source": [
    "Para la ejecución de algoritmos boosting se establece usar Gradient Boosting con la siguiente configuración de parámetros:\n",
    "- learning_rate = np.arange(0.2, 1, 0.2)\n",
    "- n_estimator = range(200, 600, 100)\n",
    "- max_depth = range(9, 15, 3)\n",
    "\n",
    "Para cada parámetro tenemos la siguiente definición:\n",
    "- Learning rate:  0<𝜂≤1. Fracción de los componentes de un árbol que serán usadas para la estimación del siguiente árbol. Es usado para mejorar la generalización del árbol. Cuando más pequeño es el parámetro es mejor la generalización que hace. Cuándo el valor es 1, significa que se usan todos los componentes del árbol actual para crear el siguiente árbol\n",
    "- n_estimator: Número de árboles que serán construidos y agregados, cuanto más árboles se usen se espera que la predicción correcta sea más probable\n",
    "- max_depth: Profundidad máxima de cada árbol. Es un mecanismo de poda para evitar el sobreajuste"
   ]
  },
  {
   "cell_type": "code",
   "execution_count": 59,
   "metadata": {
    "scrolled": false
   },
   "outputs": [
    {
     "data": {
      "application/vnd.jupyter.widget-view+json": {
       "model_id": "8ee7236843bb49488b9c1a378428a9eb",
       "version_major": 2,
       "version_minor": 0
      },
      "text/plain": [
       "HBox(children=(FloatProgress(value=1.0, bar_style='info', max=1.0), HTML(value='')))"
      ]
     },
     "metadata": {},
     "output_type": "display_data"
    },
    {
     "name": "stdout",
     "output_type": "stream",
     "text": [
      "Current Time = 15:19:55\n",
      "learning_range 0.2, n_estimators 200, max_depth 9, mse 13992596.11665118\n",
      "Current Time = 16:12:36\n"
     ]
    }
   ],
   "source": [
    "# list of values to try for max_features\n",
    "learning_range = np.arange(0.2, 1, 0.2)\n",
    "n_estimator_range = range(200, 600, 100)\n",
    "max_depth_range = range(9, 15, 3)\n",
    "\n",
    "# list to store the average Accuracy for each value of max_features\n",
    "#accuracy_scores = []\n",
    "\n",
    "for lr in learning_range:\n",
    "    for n in n_estimator_range:\n",
    "        for m in max_depth_range:\n",
    "            now()\n",
    "            clf = GradientBoostingRegressor(random_state=0, learning_rate = lr, n_estimators=n,max_depth=m)\n",
    "            clf.fit(X_train,y_train)\n",
    "            y_pred=clf.predict(X_test)\n",
    "            mse=metrics.mean_squared_error(y_pred,y_test)\n",
    "            print('learning_range {}, n_estimators {}, max_depth {}, mse {}'.format(lr,n, m, mse))\n",
    "            accuracy_scores.append([lr,n, m, mse])"
   ]
  },
  {
   "cell_type": "markdown",
   "metadata": {},
   "source": [
    "#### XGBoost\n",
    "En la construcción del modelo usando este algoritmo se prueba una estrategia de preparación de datos diferente.\n",
    "Esta preparación de datos considera las siguientes situaciones:\n",
    "- El modelo del carro depende exclusivamente de la marca, por lo que se considera que la variable 'Maker' puede ser omitida\n",
    "- El modelo del carro está compuesto por dos clases de información: la primera habla del modelo base del vehículo, mientras que la segunda habla de la gama dentro del modelo. De este modo se crea una nueva columna ModelT que toma sólamente el modelo base del vehículo, para hacer el entrenamiento\n"
   ]
  },
  {
   "cell_type": "markdown",
   "metadata": {},
   "source": [
    "Los parámetros que se explorarán están explicados a continuación:\n",
    "- Learning rate:  0<𝜂≤1. Fracción de los componentes de un árbol que serán usadas para la estimación del siguiente árbol. Es usado para mejorar la generalización del árbol. Cuando más pequeño es el parámetro es mejor la generalización que hace. Cuándo el valor es 1, significa que se usan todos los componentes del árbol actual para crear el siguiente árbol\n",
    "- gamma: Ganancia mínima que debe superar una partición para ser incluida en el árbol. Es un número entre [0,inf] y a medida que es más grande el árbol final es más simple.\n",
    "- colsample_bytree: Fracción de las columnas que serán tomadas para la construcción de cada árbol. tiene un valor entre 0 y 1 siendo 1:\"tomar todas las columnas\""
   ]
  },
  {
   "cell_type": "code",
   "execution_count": 4,
   "metadata": {},
   "outputs": [],
   "source": [
    "from xgboost import XGBRegressor\n",
    "data['ModelT']=data['Model'].str[:4]\n",
    "states_xgb = pd.get_dummies(data['State'])\n",
    "models_xgb = pd.get_dummies(data['ModelT'])\n",
    "df_xgb = pd.concat([data[['Price', 'Year', 'Mileage']], states_xgb, models_xgb], axis = 1)\n",
    "\n",
    "y_xgb = df_xgb['Price']\n",
    "X_xgb = df_xgb.drop(['Price'], axis=1)\n",
    "\n",
    "X_train, X_test, y_train, y_test = train_test_split(X_xgb, y_xgb, test_size=0.33, random_state=42)\n",
    "def now():\n",
    "    now = datetime.now()\n",
    "    current_time = now.strftime(\"%H:%M:%S\")\n",
    "    print(\"Current Time =\", current_time)"
   ]
  },
  {
   "cell_type": "code",
   "execution_count": 20,
   "metadata": {
    "scrolled": true
   },
   "outputs": [
    {
     "name": "stdout",
     "output_type": "stream",
     "text": [
      "Current Time = 18:35:38\n",
      "RMSE: 4144.303652068261 params:  [1.0, 9, 1.0]\n",
      "B_RMSE: 4144.303652068261 B_params:  [1.0, 9, 1.0]\n",
      "Current Time = 18:38:57\n",
      "RMSE: 4159.298568798539 params:  [1.0, 9, 0.8]\n",
      "Current Time = 18:41:40\n",
      "RMSE: 4184.539269018793 params:  [1.0, 9, 0.6000000000000001]\n",
      "Current Time = 18:43:46\n",
      "RMSE: 4171.523555862642 params:  [1.0, 9, 0.4]\n",
      "Current Time = 18:45:19\n",
      "RMSE: 4333.368334510954 params:  [1.0, 9, 0.2]\n",
      "Current Time = 18:46:17\n",
      "RMSE: 4144.303652068261 params:  [1.0, 8, 1.0]\n",
      "Current Time = 18:49:34\n",
      "RMSE: 4159.298568798539 params:  [1.0, 8, 0.8]\n",
      "Current Time = 18:52:17\n",
      "RMSE: 4184.539269018793 params:  [1.0, 8, 0.6000000000000001]\n",
      "Current Time = 18:54:23\n",
      "RMSE: 4171.523555862642 params:  [1.0, 8, 0.4]\n",
      "Current Time = 18:55:55\n",
      "RMSE: 4333.368334510954 params:  [1.0, 8, 0.2]\n",
      "Current Time = 18:56:53\n",
      "RMSE: 4144.303652068261 params:  [1.0, 7, 1.0]\n",
      "Current Time = 19:00:08\n",
      "RMSE: 4159.298568798539 params:  [1.0, 7, 0.8]\n",
      "Current Time = 19:02:50\n",
      "RMSE: 4184.539269018793 params:  [1.0, 7, 0.6000000000000001]\n",
      "Current Time = 19:04:57\n",
      "RMSE: 4171.523555862642 params:  [1.0, 7, 0.4]\n",
      "Current Time = 19:06:30\n",
      "RMSE: 4333.368334510954 params:  [1.0, 7, 0.2]\n",
      "Current Time = 19:07:29\n",
      "RMSE: 4144.303652068261 params:  [1.0, 6, 1.0]\n",
      "Current Time = 19:10:48\n",
      "RMSE: 4159.298568798539 params:  [1.0, 6, 0.8]\n",
      "Current Time = 19:13:30\n",
      "RMSE: 4184.539269018793 params:  [1.0, 6, 0.6000000000000001]\n",
      "Current Time = 19:15:36\n",
      "RMSE: 4171.523555862642 params:  [1.0, 6, 0.4]\n",
      "Current Time = 19:17:09\n",
      "RMSE: 4333.368334510954 params:  [1.0, 6, 0.2]\n",
      "Current Time = 19:18:07\n",
      "RMSE: 4144.303652068261 params:  [1.0, 5, 1.0]\n",
      "Current Time = 19:21:25\n",
      "RMSE: 4159.298568798539 params:  [1.0, 5, 0.8]\n",
      "Current Time = 19:24:08\n",
      "RMSE: 4184.539269018793 params:  [1.0, 5, 0.6000000000000001]\n",
      "Current Time = 19:26:15\n",
      "RMSE: 4171.523555862642 params:  [1.0, 5, 0.4]\n",
      "Current Time = 19:27:46\n",
      "RMSE: 4333.368334510954 params:  [1.0, 5, 0.2]\n",
      "Current Time = 19:28:42\n",
      "RMSE: 4144.303652068261 params:  [1.0, 4, 1.0]\n",
      "Current Time = 19:32:00\n",
      "RMSE: 4159.298568798539 params:  [1.0, 4, 0.8]\n",
      "Current Time = 19:34:43\n",
      "RMSE: 4184.539269018793 params:  [1.0, 4, 0.6000000000000001]\n",
      "Current Time = 19:36:51\n",
      "RMSE: 4171.523555862642 params:  [1.0, 4, 0.4]\n",
      "Current Time = 19:38:23\n",
      "RMSE: 4333.368334510954 params:  [1.0, 4, 0.2]\n",
      "Current Time = 19:39:23\n",
      "RMSE: 4144.303652068261 params:  [1.0, 3, 1.0]\n",
      "Current Time = 19:42:41\n",
      "RMSE: 4159.298568798539 params:  [1.0, 3, 0.8]\n",
      "Current Time = 19:45:24\n",
      "RMSE: 4184.539269018793 params:  [1.0, 3, 0.6000000000000001]\n",
      "Current Time = 19:47:31\n",
      "RMSE: 4171.523555862642 params:  [1.0, 3, 0.4]\n",
      "Current Time = 19:49:02\n",
      "RMSE: 4333.368334510954 params:  [1.0, 3, 0.2]\n",
      "Current Time = 19:49:59\n",
      "RMSE: 4144.303652068261 params:  [1.0, 2, 1.0]\n",
      "Current Time = 19:53:16\n",
      "RMSE: 4159.298568798539 params:  [1.0, 2, 0.8]\n",
      "Current Time = 19:55:56\n",
      "RMSE: 4184.539269018793 params:  [1.0, 2, 0.6000000000000001]\n",
      "Current Time = 19:58:05\n",
      "RMSE: 4171.523555862642 params:  [1.0, 2, 0.4]\n",
      "Current Time = 19:59:34\n",
      "RMSE: 4333.368334510954 params:  [1.0, 2, 0.2]\n",
      "Current Time = 20:00:32\n",
      "RMSE: 4144.303652068261 params:  [1.0, 1, 1.0]\n",
      "Current Time = 20:03:48\n",
      "RMSE: 4159.298568798539 params:  [1.0, 1, 0.8]\n",
      "Current Time = 20:06:29\n",
      "RMSE: 4184.539269018793 params:  [1.0, 1, 0.6000000000000001]\n",
      "Current Time = 20:08:37\n",
      "RMSE: 4171.523555862642 params:  [1.0, 1, 0.4]\n",
      "Current Time = 20:10:08\n",
      "RMSE: 4333.368334510954 params:  [1.0, 1, 0.2]\n",
      "Current Time = 20:11:06\n",
      "RMSE: 4106.865828161503 params:  [0.8, 9, 1.0]\n",
      "B_RMSE: 4106.865828161503 B_params:  [0.8, 9, 1.0]\n",
      "Current Time = 20:14:21\n",
      "RMSE: 4127.742491958621 params:  [0.8, 9, 0.8]\n",
      "Current Time = 20:17:00\n",
      "RMSE: 4161.521250856444 params:  [0.8, 9, 0.6000000000000001]\n",
      "Current Time = 20:19:03\n",
      "RMSE: 4175.252084646546 params:  [0.8, 9, 0.4]\n",
      "Current Time = 20:20:35\n",
      "RMSE: 4293.168774380226 params:  [0.8, 9, 0.2]\n",
      "Current Time = 20:21:32\n",
      "RMSE: 4106.865828161503 params:  [0.8, 8, 1.0]\n",
      "Current Time = 20:24:46\n",
      "RMSE: 4127.742491958621 params:  [0.8, 8, 0.8]\n",
      "Current Time = 20:27:28\n",
      "RMSE: 4161.521250856444 params:  [0.8, 8, 0.6000000000000001]\n",
      "Current Time = 20:29:34\n",
      "RMSE: 4175.252084646546 params:  [0.8, 8, 0.4]\n",
      "Current Time = 20:31:07\n",
      "RMSE: 4293.168774380226 params:  [0.8, 8, 0.2]\n",
      "Current Time = 20:32:06\n",
      "RMSE: 4106.865828161503 params:  [0.8, 7, 1.0]\n",
      "Current Time = 20:35:23\n",
      "RMSE: 4127.742491958621 params:  [0.8, 7, 0.8]\n",
      "Current Time = 20:38:05\n",
      "RMSE: 4161.521250856444 params:  [0.8, 7, 0.6000000000000001]\n",
      "Current Time = 20:40:10\n",
      "RMSE: 4175.252084646546 params:  [0.8, 7, 0.4]\n",
      "Current Time = 20:41:40\n",
      "RMSE: 4293.168774380226 params:  [0.8, 7, 0.2]\n",
      "Current Time = 20:42:40\n",
      "RMSE: 4106.865828161503 params:  [0.8, 6, 1.0]\n",
      "Current Time = 20:45:57\n",
      "RMSE: 4127.742491958621 params:  [0.8, 6, 0.8]\n",
      "Current Time = 20:48:37\n",
      "RMSE: 4161.521250856444 params:  [0.8, 6, 0.6000000000000001]\n",
      "Current Time = 20:50:45\n",
      "RMSE: 4175.252084646546 params:  [0.8, 6, 0.4]\n",
      "Current Time = 20:52:15\n",
      "RMSE: 4293.168774380226 params:  [0.8, 6, 0.2]\n",
      "Current Time = 20:53:13\n",
      "RMSE: 4106.865828161503 params:  [0.8, 5, 1.0]\n",
      "Current Time = 20:56:30\n",
      "RMSE: 4127.742491958621 params:  [0.8, 5, 0.8]\n",
      "Current Time = 20:59:10\n",
      "RMSE: 4161.521250856444 params:  [0.8, 5, 0.6000000000000001]\n",
      "Current Time = 21:01:16\n",
      "RMSE: 4175.252084646546 params:  [0.8, 5, 0.4]\n",
      "Current Time = 21:02:47\n",
      "RMSE: 4293.168774380226 params:  [0.8, 5, 0.2]\n",
      "Current Time = 21:03:43\n",
      "RMSE: 4106.865828161503 params:  [0.8, 4, 1.0]\n",
      "Current Time = 21:06:57\n",
      "RMSE: 4127.742491958621 params:  [0.8, 4, 0.8]\n",
      "Current Time = 21:09:38\n",
      "RMSE: 4161.521250856444 params:  [0.8, 4, 0.6000000000000001]\n",
      "Current Time = 21:11:41\n",
      "RMSE: 4175.252084646546 params:  [0.8, 4, 0.4]\n",
      "Current Time = 21:13:12\n",
      "RMSE: 4293.168774380226 params:  [0.8, 4, 0.2]\n",
      "Current Time = 21:14:09\n",
      "RMSE: 4106.865828161503 params:  [0.8, 3, 1.0]\n",
      "Current Time = 21:17:22\n",
      "RMSE: 4127.742491958621 params:  [0.8, 3, 0.8]\n",
      "Current Time = 21:20:00\n",
      "RMSE: 4161.521250856444 params:  [0.8, 3, 0.6000000000000001]\n",
      "Current Time = 21:22:04\n",
      "RMSE: 4175.252084646546 params:  [0.8, 3, 0.4]\n",
      "Current Time = 21:23:36\n",
      "RMSE: 4293.168774380226 params:  [0.8, 3, 0.2]\n",
      "Current Time = 21:24:33\n",
      "RMSE: 4106.865828161503 params:  [0.8, 2, 1.0]\n",
      "Current Time = 21:27:52\n",
      "RMSE: 4127.742491958621 params:  [0.8, 2, 0.8]\n",
      "Current Time = 21:30:31\n",
      "RMSE: 4161.521250856444 params:  [0.8, 2, 0.6000000000000001]\n",
      "Current Time = 21:32:34\n",
      "RMSE: 4175.252084646546 params:  [0.8, 2, 0.4]\n",
      "Current Time = 21:34:03\n",
      "RMSE: 4293.168774380226 params:  [0.8, 2, 0.2]\n",
      "Current Time = 21:35:00\n",
      "RMSE: 4106.865828161503 params:  [0.8, 1, 1.0]\n",
      "Current Time = 21:38:14\n",
      "RMSE: 4127.742491958621 params:  [0.8, 1, 0.8]\n",
      "Current Time = 21:40:51\n"
     ]
    },
    {
     "ename": "KeyboardInterrupt",
     "evalue": "",
     "output_type": "error",
     "traceback": [
      "\u001b[1;31m---------------------------------------------------------------------------\u001b[0m",
      "\u001b[1;31mKeyboardInterrupt\u001b[0m                         Traceback (most recent call last)",
      "\u001b[1;32m<ipython-input-9-8c711adb26ec>\u001b[0m in \u001b[0;36m<module>\u001b[1;34m\u001b[0m\n\u001b[0;32m     15\u001b[0m             \u001b[0mnow\u001b[0m\u001b[1;33m(\u001b[0m\u001b[1;33m)\u001b[0m\u001b[1;33m\u001b[0m\u001b[1;33m\u001b[0m\u001b[0m\n\u001b[0;32m     16\u001b[0m             \u001b[0mclf\u001b[0m \u001b[1;33m=\u001b[0m \u001b[0mXGBRegressor\u001b[0m\u001b[1;33m(\u001b[0m\u001b[0meta\u001b[0m\u001b[1;33m=\u001b[0m\u001b[0mlr\u001b[0m\u001b[1;33m,\u001b[0m \u001b[0mgamma\u001b[0m\u001b[1;33m=\u001b[0m\u001b[0mg\u001b[0m\u001b[1;33m,\u001b[0m\u001b[0mcolsample_bytree\u001b[0m\u001b[1;33m=\u001b[0m\u001b[0mcs\u001b[0m\u001b[1;33m)\u001b[0m\u001b[1;33m\u001b[0m\u001b[1;33m\u001b[0m\u001b[0m\n\u001b[1;32m---> 17\u001b[1;33m             \u001b[0mclf\u001b[0m\u001b[1;33m.\u001b[0m\u001b[0mfit\u001b[0m\u001b[1;33m(\u001b[0m\u001b[0mX_train\u001b[0m\u001b[1;33m,\u001b[0m\u001b[0my_train\u001b[0m\u001b[1;33m)\u001b[0m\u001b[1;33m\u001b[0m\u001b[1;33m\u001b[0m\u001b[0m\n\u001b[0m\u001b[0;32m     18\u001b[0m             \u001b[0my_pred\u001b[0m\u001b[1;33m=\u001b[0m\u001b[0mclf\u001b[0m\u001b[1;33m.\u001b[0m\u001b[0mpredict\u001b[0m\u001b[1;33m(\u001b[0m\u001b[0mX_test\u001b[0m\u001b[1;33m)\u001b[0m\u001b[1;33m\u001b[0m\u001b[1;33m\u001b[0m\u001b[0m\n\u001b[0;32m     19\u001b[0m             \u001b[0mrmse\u001b[0m\u001b[1;33m=\u001b[0m\u001b[0mnp\u001b[0m\u001b[1;33m.\u001b[0m\u001b[0msqrt\u001b[0m\u001b[1;33m(\u001b[0m\u001b[0mmetrics\u001b[0m\u001b[1;33m.\u001b[0m\u001b[0mmean_squared_error\u001b[0m\u001b[1;33m(\u001b[0m\u001b[0my_pred\u001b[0m\u001b[1;33m,\u001b[0m\u001b[0my_test\u001b[0m\u001b[1;33m)\u001b[0m\u001b[1;33m)\u001b[0m\u001b[1;33m\u001b[0m\u001b[1;33m\u001b[0m\u001b[0m\n",
      "\u001b[1;32m~\\anaconda3\\lib\\site-packages\\xgboost\\sklearn.py\u001b[0m in \u001b[0;36mfit\u001b[1;34m(self, X, y, sample_weight, base_margin, eval_set, eval_metric, early_stopping_rounds, verbose, xgb_model, sample_weight_eval_set, callbacks)\u001b[0m\n\u001b[0;32m    542\u001b[0m                               \u001b[0mevals_result\u001b[0m\u001b[1;33m=\u001b[0m\u001b[0mevals_result\u001b[0m\u001b[1;33m,\u001b[0m \u001b[0mobj\u001b[0m\u001b[1;33m=\u001b[0m\u001b[0mobj\u001b[0m\u001b[1;33m,\u001b[0m \u001b[0mfeval\u001b[0m\u001b[1;33m=\u001b[0m\u001b[0mfeval\u001b[0m\u001b[1;33m,\u001b[0m\u001b[1;33m\u001b[0m\u001b[1;33m\u001b[0m\u001b[0m\n\u001b[0;32m    543\u001b[0m                               \u001b[0mverbose_eval\u001b[0m\u001b[1;33m=\u001b[0m\u001b[0mverbose\u001b[0m\u001b[1;33m,\u001b[0m \u001b[0mxgb_model\u001b[0m\u001b[1;33m=\u001b[0m\u001b[0mxgb_model\u001b[0m\u001b[1;33m,\u001b[0m\u001b[1;33m\u001b[0m\u001b[1;33m\u001b[0m\u001b[0m\n\u001b[1;32m--> 544\u001b[1;33m                               callbacks=callbacks)\n\u001b[0m\u001b[0;32m    545\u001b[0m \u001b[1;33m\u001b[0m\u001b[0m\n\u001b[0;32m    546\u001b[0m         \u001b[1;32mif\u001b[0m \u001b[0mevals_result\u001b[0m\u001b[1;33m:\u001b[0m\u001b[1;33m\u001b[0m\u001b[1;33m\u001b[0m\u001b[0m\n",
      "\u001b[1;32m~\\anaconda3\\lib\\site-packages\\xgboost\\training.py\u001b[0m in \u001b[0;36mtrain\u001b[1;34m(params, dtrain, num_boost_round, evals, obj, feval, maximize, early_stopping_rounds, evals_result, verbose_eval, xgb_model, callbacks)\u001b[0m\n\u001b[0;32m    210\u001b[0m                            \u001b[0mevals\u001b[0m\u001b[1;33m=\u001b[0m\u001b[0mevals\u001b[0m\u001b[1;33m,\u001b[0m\u001b[1;33m\u001b[0m\u001b[1;33m\u001b[0m\u001b[0m\n\u001b[0;32m    211\u001b[0m                            \u001b[0mobj\u001b[0m\u001b[1;33m=\u001b[0m\u001b[0mobj\u001b[0m\u001b[1;33m,\u001b[0m \u001b[0mfeval\u001b[0m\u001b[1;33m=\u001b[0m\u001b[0mfeval\u001b[0m\u001b[1;33m,\u001b[0m\u001b[1;33m\u001b[0m\u001b[1;33m\u001b[0m\u001b[0m\n\u001b[1;32m--> 212\u001b[1;33m                            xgb_model=xgb_model, callbacks=callbacks)\n\u001b[0m\u001b[0;32m    213\u001b[0m \u001b[1;33m\u001b[0m\u001b[0m\n\u001b[0;32m    214\u001b[0m \u001b[1;33m\u001b[0m\u001b[0m\n",
      "\u001b[1;32m~\\anaconda3\\lib\\site-packages\\xgboost\\training.py\u001b[0m in \u001b[0;36m_train_internal\u001b[1;34m(params, dtrain, num_boost_round, evals, obj, feval, xgb_model, callbacks)\u001b[0m\n\u001b[0;32m     73\u001b[0m         \u001b[1;31m# Skip the first update if it is a recovery step.\u001b[0m\u001b[1;33m\u001b[0m\u001b[1;33m\u001b[0m\u001b[1;33m\u001b[0m\u001b[0m\n\u001b[0;32m     74\u001b[0m         \u001b[1;32mif\u001b[0m \u001b[0mversion\u001b[0m \u001b[1;33m%\u001b[0m \u001b[1;36m2\u001b[0m \u001b[1;33m==\u001b[0m \u001b[1;36m0\u001b[0m\u001b[1;33m:\u001b[0m\u001b[1;33m\u001b[0m\u001b[1;33m\u001b[0m\u001b[0m\n\u001b[1;32m---> 75\u001b[1;33m             \u001b[0mbst\u001b[0m\u001b[1;33m.\u001b[0m\u001b[0mupdate\u001b[0m\u001b[1;33m(\u001b[0m\u001b[0mdtrain\u001b[0m\u001b[1;33m,\u001b[0m \u001b[0mi\u001b[0m\u001b[1;33m,\u001b[0m \u001b[0mobj\u001b[0m\u001b[1;33m)\u001b[0m\u001b[1;33m\u001b[0m\u001b[1;33m\u001b[0m\u001b[0m\n\u001b[0m\u001b[0;32m     76\u001b[0m             \u001b[0mbst\u001b[0m\u001b[1;33m.\u001b[0m\u001b[0msave_rabit_checkpoint\u001b[0m\u001b[1;33m(\u001b[0m\u001b[1;33m)\u001b[0m\u001b[1;33m\u001b[0m\u001b[1;33m\u001b[0m\u001b[0m\n\u001b[0;32m     77\u001b[0m             \u001b[0mversion\u001b[0m \u001b[1;33m+=\u001b[0m \u001b[1;36m1\u001b[0m\u001b[1;33m\u001b[0m\u001b[1;33m\u001b[0m\u001b[0m\n",
      "\u001b[1;32m~\\anaconda3\\lib\\site-packages\\xgboost\\core.py\u001b[0m in \u001b[0;36mupdate\u001b[1;34m(self, dtrain, iteration, fobj)\u001b[0m\n\u001b[0;32m   1367\u001b[0m             _check_call(_LIB.XGBoosterUpdateOneIter(self.handle,\n\u001b[0;32m   1368\u001b[0m                                                     \u001b[0mctypes\u001b[0m\u001b[1;33m.\u001b[0m\u001b[0mc_int\u001b[0m\u001b[1;33m(\u001b[0m\u001b[0miteration\u001b[0m\u001b[1;33m)\u001b[0m\u001b[1;33m,\u001b[0m\u001b[1;33m\u001b[0m\u001b[1;33m\u001b[0m\u001b[0m\n\u001b[1;32m-> 1369\u001b[1;33m                                                     dtrain.handle))\n\u001b[0m\u001b[0;32m   1370\u001b[0m         \u001b[1;32melse\u001b[0m\u001b[1;33m:\u001b[0m\u001b[1;33m\u001b[0m\u001b[1;33m\u001b[0m\u001b[0m\n\u001b[0;32m   1371\u001b[0m             \u001b[0mpred\u001b[0m \u001b[1;33m=\u001b[0m \u001b[0mself\u001b[0m\u001b[1;33m.\u001b[0m\u001b[0mpredict\u001b[0m\u001b[1;33m(\u001b[0m\u001b[0mdtrain\u001b[0m\u001b[1;33m,\u001b[0m \u001b[0moutput_margin\u001b[0m\u001b[1;33m=\u001b[0m\u001b[1;32mTrue\u001b[0m\u001b[1;33m,\u001b[0m \u001b[0mtraining\u001b[0m\u001b[1;33m=\u001b[0m\u001b[1;32mTrue\u001b[0m\u001b[1;33m)\u001b[0m\u001b[1;33m\u001b[0m\u001b[1;33m\u001b[0m\u001b[0m\n",
      "\u001b[1;31mKeyboardInterrupt\u001b[0m: "
     ]
    }
   ],
   "source": [
    "from sklearn.externals import joblib\n",
    "\n",
    "# list of values to try for max_features\n",
    "learning_range =sorted(np.arange(0.2, 1.2, 0.2),reverse=True)\n",
    "gamma_range = sorted(range(1, 10),reverse=True)\n",
    "colsample_range =sorted(np.arange(0.2, 1.2, 0.2),reverse=True)\n",
    "\n",
    "# list to store the average Accuracy for each value of max_features\n",
    "best_rmse=9999999\n",
    "best_clf=XGBRegressor()\n",
    "best_params=[]\n",
    "for lr in learning_range:\n",
    "    for g in gamma_range:\n",
    "        for cs in colsample_range:\n",
    "            now()\n",
    "            clf = XGBRegressor(eta=lr, gamma=g,colsample_bytree=cs)\n",
    "            clf.fit(X_train,y_train)\n",
    "            y_pred=clf.predict(X_test)\n",
    "            rmse=np.sqrt(metrics.mean_squared_error(y_pred,y_test))\n",
    "            print (\"RMSE:\",rmse,\"params: \",[lr,g,cs])\n",
    "            if rmse<best_rmse:\n",
    "                best_rmse=rmse\n",
    "                best_clf=clf\n",
    "                best_params=[lr,g,cs]\n",
    "                print (\"B_RMSE:\",best_rmse,\"B_params: \",best_params)"
   ]
  },
  {
   "cell_type": "markdown",
   "metadata": {},
   "source": [
    "### Mejor Modelo:\n",
    "Para las diferentes confuguraciones intentadas el mejor modelo conseguido fue GradientBoosting con un RMSE de 3541. Por restricciones de tiempo se decide entrenar el modelo con menos datos y los mismos parámetros."
   ]
  },
  {
   "cell_type": "code",
   "execution_count": 8,
   "metadata": {},
   "outputs": [
    {
     "data": {
      "text/plain": [
       "(50000, 614)"
      ]
     },
     "execution_count": 8,
     "metadata": {},
     "output_type": "execute_result"
    }
   ],
   "source": [
    "#Generacion de archivo para despliegue\n",
    "data = pd.read_csv('../P2ModelosAvanzados1/datasets/dataTrain_carListings.zip')\n",
    "\n",
    "states = pd.get_dummies(data['State'])\n",
    "makes = pd.get_dummies(data['Make'])\n",
    "models = pd.get_dummies(data['Model'])\n",
    "df = pd.concat([data[['Price', 'Year', 'Mileage']], states, makes.drop(['Ram','Land'],axis=1), models], axis = 1).sample(50000)\n",
    "y = df['Price']\n",
    "X = df.drop(['Price'], axis=1)\n",
    "X.shape"
   ]
  },
  {
   "cell_type": "code",
   "execution_count": 9,
   "metadata": {},
   "outputs": [
    {
     "data": {
      "text/plain": [
       "GradientBoostingRegressor(alpha=0.9, criterion='friedman_mse', init=None,\n",
       "                          learning_rate=0.2, loss='ls', max_depth=12,\n",
       "                          max_features=None, max_leaf_nodes=None,\n",
       "                          min_impurity_decrease=0.0, min_impurity_split=None,\n",
       "                          min_samples_leaf=1, min_samples_split=2,\n",
       "                          min_weight_fraction_leaf=0.0, n_estimators=300,\n",
       "                          n_iter_no_change=None, presort='auto', random_state=0,\n",
       "                          subsample=1.0, tol=0.0001, validation_fraction=0.1,\n",
       "                          verbose=0, warm_start=False)"
      ]
     },
     "execution_count": 9,
     "metadata": {},
     "output_type": "execute_result"
    }
   ],
   "source": [
    "X_train, X_test, y_train, y_test = train_test_split(X, y, test_size=0.33, random_state=42)\n",
    "best_clf = GradientBoostingRegressor(random_state=0, learning_rate = 0.2, n_estimators=300,max_depth=12)\n",
    "best_clf.fit(X_train,y_train)\n"
   ]
  },
  {
   "cell_type": "code",
   "execution_count": 12,
   "metadata": {},
   "outputs": [
    {
     "data": {
      "text/plain": [
       "['model_deployment/modeloGB.pkl']"
      ]
     },
     "execution_count": 12,
     "metadata": {},
     "output_type": "execute_result"
    }
   ],
   "source": [
    "\n",
    "from sklearn.externals import joblib\n",
    "joblib.dump(best_clf, 'model_deployment/modeloGB.pkl', compress=3)"
   ]
  },
  {
   "cell_type": "markdown",
   "metadata": {},
   "source": [
    "### Resumen y conclusiones selección de modelos \n",
    "- El mecanismo de comparación de modelos se realizó a través de RMSE\n",
    "- La construcción de modelos inició con el uso de Árboles de decisión simples, usando CV para cálculo de RMSE. En seguida se usaron algoritmos de Rotation Forest. Finalmente se implementaron modelos GradientBoosting y XGBoost. Para las configuraciones ejecutadas, se encontró que GradientBoosting obtenía un mejor desempeño\n",
    "- El entrenamiento de los modelos se realizó con la totalidad de los datos, pero esto generó demoras importantes en el tiempo de ejecución. Se considera que el proceso de selección puede mejorarse si se usa una muestra aleatoria de los datos.\n",
    "- En cada tunning del modelo se presenta la configuración de los parámetros y su aporte al entrenamiento. En general, las tasas de entrenamiento más bajas, una mayor profundidad y un mayor número de estimadores mejoran el desempeño de los modelos.\n",
    "- El modelo seleccinado es un GradientBoosting de parámetros learning_rate=0.2, n_estimators=300 y max_depth=12 obteniendo un RMSE de 3541. El modelo publicado fue entrenado con 50000 datos, obteniendo un RMSE de 3941\n"
   ]
  },
  {
   "cell_type": "markdown",
   "metadata": {},
   "source": [
    "# Exercise P2.2 (50%)\n",
    "\n",
    "Create an API of the model.\n",
    "\n",
    "Example:\n",
    "\n",
    "#### Evaluation:\n",
    "- 40% - API hosted on a cloud service\n",
    "- 10% - Show screenshots of the model doing the predictions on the local machine\n"
   ]
  },
  {
   "cell_type": "markdown",
   "metadata": {},
   "source": [
    "#### En máquina local"
   ]
  },
  {
   "cell_type": "code",
   "execution_count": 1,
   "metadata": {},
   "outputs": [
    {
     "name": "stderr",
     "output_type": "stream",
     "text": [
      "C:\\Users\\david\\Anaconda3\\lib\\site-packages\\sklearn\\externals\\joblib\\__init__.py:15: DeprecationWarning: sklearn.externals.joblib is deprecated in 0.21 and will be removed in 0.23. Please import this functionality directly from joblib, which can be installed with: pip install joblib. If this warning is raised when loading pickled models, you may need to re-serialize those models with scikit-learn 0.21+.\n",
      "  warnings.warn(msg, category=DeprecationWarning)\n"
     ]
    }
   ],
   "source": [
    "from flask import Flask\n",
    "from flask_restplus import Api, Resource, fields\n",
    "from sklearn.externals import joblib\n",
    "from model_deployment.p2model_deployment import predict_price"
   ]
  },
  {
   "cell_type": "code",
   "execution_count": 2,
   "metadata": {},
   "outputs": [
    {
     "data": {
      "text/plain": [
       "array([33828.93385324])"
      ]
     },
     "execution_count": 2,
     "metadata": {},
     "output_type": "execute_result"
    }
   ],
   "source": [
    "predict_price(2015,1000,'AL','Audi','CX')"
   ]
  },
  {
   "cell_type": "code",
   "execution_count": 3,
   "metadata": {},
   "outputs": [],
   "source": [
    "\n",
    "app = Flask(__name__)\n",
    "\n",
    "api = Api(\n",
    "    app, \n",
    "    version='1.0', \n",
    "    title='Price Prediction API G7',\n",
    "    description='Angie Paola Chacon Pinzon: 201012536\\nJahir Stevens Rodriguez Riveros: 201819361\\nJuan Andres Cabal Jaramillo: 200620778\\nDavid Tavera Sánchez: 201016123')\n",
    "\n",
    "ns = api.namespace('predict', \n",
    "     description='Price Regressor')\n",
    "   \n",
    "parser = api.parser()\n",
    "\n",
    "parser.add_argument(\n",
    "    'Year', \n",
    "    type=int, \n",
    "    required=True, \n",
    "    help='Year of the car to be analyzed', \n",
    "    location='args')\n",
    "\n",
    "parser.add_argument(\n",
    "    'Mileage', \n",
    "    type=int, \n",
    "    required=True, \n",
    "    help='Mileage of the car to be analyzed', \n",
    "    location='args')\n",
    "\n",
    "parser.add_argument(\n",
    "    'State', \n",
    "    type=str, \n",
    "    required=True, \n",
    "    help='State of the car to be analyzed', \n",
    "    location='args')\n",
    "\n",
    "parser.add_argument(\n",
    "    'Make', \n",
    "    type=str, \n",
    "    required=True, \n",
    "    help='Maker of the car to be analyzed', \n",
    "    location='args')\n",
    "\n",
    "parser.add_argument(\n",
    "    'Model', \n",
    "    type=str, \n",
    "    required=True, \n",
    "    help='Model of the car to be analyzed', \n",
    "    location='args')\n",
    "\n",
    "\n",
    "resource_fields = api.model('Resource', {\n",
    "    'price': fields.Integer,\n",
    "})\n",
    "\n",
    "@ns.route('/')\n",
    "class PriceApi(Resource):\n",
    "\n",
    "    @api.doc(parser=parser)\n",
    "    @api.marshal_with(resource_fields)\n",
    "    def get(self):\n",
    "        args = parser.parse_args()\n",
    "        \n",
    "        return {\n",
    "         \"price\": predict_price(args['Year'],args['Mileage'],args['State'],args['Make'],args['Model'])\n",
    "        }, 200"
   ]
  },
  {
   "cell_type": "code",
   "execution_count": 5,
   "metadata": {},
   "outputs": [
    {
     "name": "stdout",
     "output_type": "stream",
     "text": [
      " * Serving Flask app \"__main__\" (lazy loading)\n",
      " * Environment: production\n",
      "   WARNING: This is a development server. Do not use it in a production deployment.\n",
      "   Use a production WSGI server instead.\n",
      " * Debug mode: on\n"
     ]
    },
    {
     "name": "stderr",
     "output_type": "stream",
     "text": [
      " * Running on http://0.0.0.0:5000/ (Press CTRL+C to quit)\n",
      "127.0.0.1 - - [29/Jun/2020 21:14:58] \"GET /predict/?Year=2015&Mileage=10000&State=AL&Make=audi&Model=CX HTTP/1.1\" 200 -\n",
      "127.0.0.1 - - [29/Jun/2020 21:14:58] \"GET /favicon.ico HTTP/1.1\" 404 -\n",
      "127.0.0.1 - - [29/Jun/2020 21:16:47] \"GET /predict/?Year=2020&Mileage=20000&State=AL&Make=audi&Model=CX HTTP/1.1\" 200 -\n",
      "127.0.0.1 - - [29/Jun/2020 21:18:56] \"GET /predict/?Year=2015&Mileage=20000&State=AL&Make=audi&Model=CX HTTP/1.1\" 200 -\n",
      "127.0.0.1 - - [29/Jun/2020 21:19:46] \"GET /predict/?Year=2010&Mileage=20000&State=AL&Make=audi&Model=CX HTTP/1.1\" 200 -\n",
      "127.0.0.1 - - [29/Jun/2020 21:19:54] \"GET /predict/?Year=2010&Mileage=100000&State=AL&Make=audi&Model=CX HTTP/1.1\" 200 -\n",
      "127.0.0.1 - - [29/Jun/2020 21:20:08] \"GET /predict/?Year=2010&Mileage=10&State=AL&Make=audi&Model=CX HTTP/1.1\" 200 -\n",
      "127.0.0.1 - - [29/Jun/2020 21:20:17] \"GET /predict/?Year=2013&Mileage=10&State=AL&Make=audi&Model=CX HTTP/1.1\" 200 -\n"
     ]
    }
   ],
   "source": [
    "app.run(debug=True, use_reloader=False, host='0.0.0.0', port=5000)"
   ]
  },
  {
   "attachments": {
    "API_Local1.PNG": {
     "image/png": "[encoded data removed]"
    }
   },
   "cell_type": "markdown",
   "metadata": {},
   "source": [
    "![API_Local1.PNG](attachment:API_Local1.PNG)"
   ]
  },
  {
   "attachments": {
    "LOCAL_prueba1.PNG": {
     "image/png": "[encoded data removed]"
    },
    "LOCAL_prueba2.PNG": {
     "image/png": "[encoded data removed]"
    },
    "LOCAL_prueba3.PNG": {
     "image/png": "[encoded data removed]"
    }
   },
   "cell_type": "markdown",
   "metadata": {},
   "source": [
    "![LOCAL_prueba1.PNG](attachment:LOCAL_prueba1.PNG)\n",
    "![LOCAL_prueba2.PNG](attachment:LOCAL_prueba2.PNG)\n",
    "![LOCAL_prueba3.PNG](attachment:LOCAL_prueba3.PNG)"
   ]
  },
  {
   "cell_type": "markdown",
   "metadata": {},
   "source": [
    "#### En AWS"
   ]
  },
  {
   "attachments": {
    "AWS_test1.PNG": {
     "image/png": "[encoded data removed]"
    },
    "AWS_test2.PNG": {
     "image/png": "[encoded data removed]"
    }
   },
   "cell_type": "markdown",
   "metadata": {},
   "source": [
    "![AWS_test1.PNG](attachment:AWS_test1.PNG)\n",
    "![AWS_test2.PNG](attachment:AWS_test2.PNG)\n"
   ]
  }
 ],
 "metadata": {
  "kernelspec": {
   "display_name": "Python 3",
   "language": "python",
   "name": "python3"
  },
  "language_info": {
   "codemirror_mode": {
    "name": "ipython",
    "version": 3
   },
   "file_extension": ".py",
   "mimetype": "text/x-python",
   "name": "python",
   "nbconvert_exporter": "python",
   "pygments_lexer": "ipython3",
   "version": "3.7.3"
  }
 },
 "nbformat": 4,
 "nbformat_minor": 4
}
